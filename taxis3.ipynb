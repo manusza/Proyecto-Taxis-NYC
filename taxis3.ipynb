{
 "cells": [
  {
   "cell_type": "code",
   "execution_count": 1,
   "metadata": {},
   "outputs": [],
   "source": [
    "import numpy as np\n",
    "import pandas as pd\n",
    "pd.options.mode.chained_assignment = None\n",
    "pd.options.display.max_columns=None\n",
    "import matplotlib.pyplot as plt\n",
    "import seaborn as sns\n",
    "import datetime\n",
    "from dateutil.relativedelta import *\n",
    "from dateutil.rrule import *\n",
    "from datetime import datetime as dt\n",
    "\n",
    "%config InteractiveShell.ast_node_interactivity = 'all'\n",
    "#import dependencies"
   ]
  },
  {
   "cell_type": "code",
   "execution_count": 2,
   "metadata": {},
   "outputs": [],
   "source": [
    "df = pd.read_parquet(\"../Proyecto-Taxis-NYC/data/yellow_t_2018-01.parquet\", engine=\"pyarrow\")"
   ]
  },
  {
   "cell_type": "code",
   "execution_count": 3,
   "metadata": {},
   "outputs": [],
   "source": [
    "def t_datime(df):\n",
    "    df[\"dayofmonth\"] = df['tpep_pickup_datetime'].apply(pd.to_datetime).dt.day\n",
    "    df[\"hora\"]= df.tpep_pickup_datetime.dt.floor(\"H\")\n",
    "\n",
    "    df.drop(columns=[\"congestion_surcharge\",\"airport_fee\",\"store_and_fwd_flag\"], inplace=True)\n",
    "    return df\n",
    "\n",
    "def t_int(df):\n",
    "    df['passenger_count'] = pd.to_numeric(df['passenger_count'], downcast=\"integer\" )\n",
    "    df['RatecodeID'] = pd.to_numeric(df['RatecodeID'], downcast=\"integer\" )\n",
    "    df['PULocationID'] = pd.to_numeric(df['PULocationID'], downcast=\"integer\" )\n",
    "    df['DOLocationID'] = pd.to_numeric(df['DOLocationID'], downcast=\"integer\" )\n",
    "    df['payment_type'] = pd.to_numeric(df['payment_type'], downcast=\"integer\" )\n",
    "    df['RatecodeID'] = pd.to_numeric(df['RatecodeID'], downcast=\"integer\" )\n",
    "    df['RatecodeID'] = pd.to_numeric(df['RatecodeID'], downcast=\"integer\" )\n",
    "    return df\n",
    "\n",
    "def t_float(df):\n",
    "    df['trip_distance'] = pd.to_numeric(df['trip_distance'], downcast=\"float\" )\n",
    "    df['fare_amount'] = pd.to_numeric(df['fare_amount'], downcast=\"float\" )\n",
    "    df['extra'] = pd.to_numeric(df['extra'], downcast=\"float\" )\n",
    "    df['mta_tax'] = pd.to_numeric(df['mta_tax'], downcast=\"float\" )\n",
    "    df['tip_amount'] = pd.to_numeric(df['tip_amount'], downcast=\"float\" )\n",
    "    df['tolls_amount'] = pd.to_numeric(df['tolls_amount'], downcast=\"float\" )\n",
    "    df['improvement_surcharge'] = pd.to_numeric(df['improvement_surcharge'], downcast=\"float\" )\n",
    "    df['total_amount'] = pd.to_numeric(round(df['total_amount'] ))\n",
    "    return df\n",
    "\n",
    "def total_transform(df):\n",
    "    df = t_datime(df)\n",
    "    df = t_int(df)\n",
    "    df = t_float(df)\n",
    "    return df\n",
    "\n",
    "df =  total_transform(df)"
   ]
  },
  {
   "cell_type": "code",
   "execution_count": 4,
   "metadata": {},
   "outputs": [],
   "source": [
    "df_Impar = df[df.dayofmonth % 3 == 0]\n"
   ]
  },
  {
   "cell_type": "code",
   "execution_count": 5,
   "metadata": {},
   "outputs": [],
   "source": [
    "def sorted(df):\n",
    "    global bol\n",
    "    bol = 1\n",
    "    df.sort_values(by='tpep_pickup_datetime', ascending=True, inplace=True)\n",
    "    df = df[df[\"tpep_pickup_datetime\"] >= '2018-01-01 00:00:00']\n",
    "    if bol == 1:\n",
    "        df = df[df[\"tpep_pickup_datetime\"] <= '2018-02-01 00:00:00']\n",
    "        bol = 0\n",
    "    return df\n",
    "\n",
    "df_Impar = sorted(df_Impar)"
   ]
  },
  {
   "cell_type": "code",
   "execution_count": 6,
   "metadata": {},
   "outputs": [],
   "source": [
    "def boroughs (df_Impar):\n",
    "    #se carga el csv con las zonas\n",
    "    zona = pd.read_csv(\"taxi+_zone_lookup.csv\")\n",
    "    #se borran las columnas que no usamos\n",
    "    zona.drop(columns=[\"Zone\",\"service_zone\"], inplace=True)\n",
    "    #cambiamos el nombre para poder hacer el merge\n",
    "    zona.rename(columns={\"LocationID\": \"PULocationID\"},inplace=True)\n",
    "    #se hace el merge y se crea la columnna resultante del merge \"Borough\"\n",
    "    df_Impar = pd.merge(df_Impar,zona, how=\"left\", on=[\"PULocationID\"])\n",
    "    #se le cambia el nombre a \"boroug\" para que haga referencia al borough de partida\n",
    "    df_Impar.rename(columns={\"Borough\": \"PUBorough\"},inplace=True)\n",
    "    #mismo procedimiento para borough de llegada\n",
    "    zona.rename(columns={\"PULocationID\": \"DOLocationID\"},inplace=True)\n",
    "    df_Impar = pd.merge(df_Impar,zona, how=\"left\", on=[\"DOLocationID\"])\n",
    "    df_Impar.rename(columns={\"Borough\": \"DOLocation\"},inplace=True)\n",
    "    return df_Impar\n",
    "\n",
    "df_Impar = boroughs(df_Impar)"
   ]
  },
  {
   "cell_type": "code",
   "execution_count": 7,
   "metadata": {},
   "outputs": [],
   "source": [
    "#documentacion mismo nombre del clima en cada update\n",
    "\n",
    "clima = pd.read_csv(\"C:/Users/andre/OneDrive/Escritorio/proyecto final 3/Proyecto-Taxis-NYC/clima.csv\")\n",
    "clima.drop(columns=[\"name\",\"dew\",\"humidity\",\"precipprob\",\"preciptype\",\"severerisk\",\"uvindex\",\"icon\",\"stations\"], inplace=True)\n",
    "clima.drop(columns=[\"windgust\",\"windspeed\",\"winddir\",\"sealevelpressure\",\"cloudcover\",\"visibility\",\"solarradiation\",\"solarenergy\"], inplace=True)\n",
    "clima[\"datetime\"]=[x.replace('T',\" \") for x in clima[\"datetime\"]]\n",
    "clima.datetime = clima['datetime'].apply(pd.to_datetime)"
   ]
  },
  {
   "cell_type": "code",
   "execution_count": 8,
   "metadata": {},
   "outputs": [],
   "source": [
    "def t_clima():\n",
    "    clima['temp'] = pd.to_numeric(clima['temp'], downcast=\"float\" )\n",
    "    clima['feelslike'] = pd.to_numeric(round(clima['feelslike'] ))\n",
    "    clima['precip'] = pd.to_numeric(clima['precip'], downcast=\"float\" )\n",
    "    clima['snow'] = pd.to_numeric(clima['snow'], downcast=\"float\" )\n",
    "    clima['snowdepth'] = pd.to_numeric(clima['snowdepth'], downcast=\"float\" )\n",
    "    clima[\"conditions\"]=clima[\"conditions\"].astype(str)\n",
    "    return clima\n",
    "\n",
    "clima = t_clima()"
   ]
  },
  {
   "cell_type": "code",
   "execution_count": 9,
   "metadata": {},
   "outputs": [],
   "source": [
    "def control_clima(dat,clima):\n",
    "    #aplicar sort fecha\n",
    "    clima.sort_values(by='datetime', ascending=True, inplace=True)\n",
    "    date = dat\n",
    "    if (clima[\"datetime\"] >= date).any():\n",
    "        clima = clima[clima[\"datetime\"] >= date]\n",
    "        date_next= date + relativedelta(months=+1)\n",
    "        clima = clima[clima[\"datetime\"] <= date_next]\n",
    "        return clima\n",
    "    else:\n",
    "        date+= relativedelta(months=+1)\n",
    "        return control_clima(dat)\n",
    "\n",
    "clima = control_clima(dt(2018,1,1),clima)"
   ]
  },
  {
   "cell_type": "code",
   "execution_count": 10,
   "metadata": {},
   "outputs": [],
   "source": [
    "#clima in global\n",
    "\n",
    "def aux ():\n",
    "    \n",
    "    clima.rename(columns={\"datetime\": \"hora\"},inplace=True)\n",
    "    return clima\n",
    "\n",
    "clima = aux()"
   ]
  },
  {
   "cell_type": "code",
   "execution_count": 11,
   "metadata": {},
   "outputs": [],
   "source": [
    "df_Impar = pd.merge(df_Impar,clima, how=\"left\", on=[\"hora\"])"
   ]
  },
  {
   "cell_type": "markdown",
   "metadata": {},
   "source": [
    "borro los datos en cero"
   ]
  },
  {
   "cell_type": "code",
   "execution_count": 12,
   "metadata": {},
   "outputs": [],
   "source": [
    "def neg_values(df_Impar):   \n",
    "    df_Impar = df_Impar.drop(df_Impar[df_Impar.fare_amount<0].index)\n",
    "    df_Impar = df_Impar.drop(df_Impar[df_Impar.trip_distance<0].index)\n",
    "    df_Impar = df_Impar.drop(df_Impar[df_Impar.total_amount<0].index)\n",
    "    df_Impar = df_Impar.drop(df_Impar[df_Impar.RatecodeID==6].index)\n",
    "    df_Impar = df_Impar.drop(df_Impar[df_Impar.trip_distance==0].index)\n",
    "    df_Impar = df_Impar.drop(df_Impar[df_Impar.fare_amount==0].index)\n",
    "    df_Impar = df_Impar.drop(df_Impar[df_Impar.total_amount==0].index)\n",
    "    return df_Impar\n",
    "\n",
    "df_Impar=neg_values(df_Impar)"
   ]
  },
  {
   "cell_type": "markdown",
   "metadata": {},
   "source": [
    "marco los outliers."
   ]
  },
  {
   "cell_type": "code",
   "execution_count": 13,
   "metadata": {},
   "outputs": [],
   "source": [
    "#Tratamiento de Outliers columna trip_distance\n",
    "Q1 = df_Impar[\"trip_distance\"].quantile(0.01)\n",
    "Q3 = df_Impar[\"trip_distance\"].quantile(0.99)\n",
    "#Se calcula el rango intercuartilico IQR.\n",
    "IQR = Q3 -Q1\n",
    "outliers_Sup_trip = (Q3 + (1.5*IQR)) \n",
    "#se crea la columna marcador\n",
    "df_Impar[\"trip_distance_out\"] = df_Impar.apply(lambda row: 1 if row[\"trip_distance\"]>outliers_Sup_trip else 0, axis=1)\n",
    "\n",
    "#se marco trip distance, ahora vamos por fare amount\n",
    "\n",
    "#Tratamiento de Outliers columna fare_amount\n",
    "Q1 = df_Impar[\"fare_amount\"].quantile(0.01)\n",
    "Q3 = df_Impar[\"fare_amount\"].quantile(0.99)\n",
    "#Se calcula el rango intercuartilico IQR.\n",
    "IQR = Q3 -Q1\n",
    "outliers_Sup_fare = (Q3 + (1.5*IQR)) \n",
    "#se marco fare amount\n",
    "df_Impar[\"fare_amount_out\"] = df_Impar.apply(lambda row: 1 if row[\"fare_amount\"]>outliers_Sup_fare else 0, axis=1)\n",
    "\n",
    "#Tratamiento de Outliers columna tip_amount\n",
    "Q1 = df_Impar[\"tip_amount\"].quantile(0.01)\n",
    "Q3 = df_Impar[\"tip_amount\"].quantile(0.99)\n",
    "#Se calcula el rango intercuartilico IQR.\n",
    "IQR = Q3 -Q1\n",
    "outliers_Sup_tip = (Q3 + (1.5*IQR)) \n",
    "df_Impar[\"tip_amount_out\"] = df_Impar.apply(lambda row: 1 if row[\"tip_amount\"]>outliers_Sup_tip else 0, axis=1)\n",
    "\n",
    "#se marco tip amount, ahora le toca a total amount\n",
    "\n",
    "#Tratamiento de Outliers columna total_amount\n",
    "Q1 = df_Impar[\"total_amount\"].quantile(0.01)\n",
    "Q3 = df_Impar[\"total_amount\"].quantile(0.99)\n",
    "#Se calcula el rango intercuartilico IQR.\n",
    "IQR = Q3 -Q1\n",
    "outliers_Sup_total_a = (Q3 + (1.5*IQR)) \n",
    "df_Impar[\"total_amount_out\"] = df_Impar.apply(lambda row: 1 if row[\"tip_amount\"]>outliers_Sup_total_a else 0, axis=1)\n"
   ]
  },
  {
   "cell_type": "markdown",
   "metadata": {},
   "source": [
    "columna que marca si algun valor es un outlier"
   ]
  },
  {
   "cell_type": "code",
   "execution_count": 14,
   "metadata": {},
   "outputs": [],
   "source": [
    "df_Impar[\"outlier\"] = df_Impar.apply(lambda row: 1 if row[\"trip_distance_out\"]==1 or row[\"fare_amount_out\"]==1 or\n",
    "row[\"total_amount_out\"]==1 or row[\"tip_amount_out\"]==1 else 0, axis=1)"
   ]
  },
  {
   "cell_type": "markdown",
   "metadata": {},
   "source": [
    "fin del tratamiento de datos"
   ]
  },
  {
   "cell_type": "code",
   "execution_count": 15,
   "metadata": {},
   "outputs": [],
   "source": [
    "df_Impar.to_parquet('C:/Users/andre/OneDrive/Escritorio/proyecto final 3/Proyecto-Taxis-NYC/data/df_Impar_marcado.parquet',engine=\"pyarrow\")"
   ]
  },
  {
   "cell_type": "code",
   "execution_count": 16,
   "metadata": {},
   "outputs": [],
   "source": [
    "df_Impar = pd.read_parquet(\"C:/Users/andre/OneDrive/Escritorio/proyecto final 3/Proyecto-Taxis-NYC/data/df_Impar_marcado.parquet\", engine=\"pyarrow\")"
   ]
  },
  {
   "cell_type": "code",
   "execution_count": 17,
   "metadata": {},
   "outputs": [
    {
     "data": {
      "text/html": [
       "<div>\n",
       "<style scoped>\n",
       "    .dataframe tbody tr th:only-of-type {\n",
       "        vertical-align: middle;\n",
       "    }\n",
       "\n",
       "    .dataframe tbody tr th {\n",
       "        vertical-align: top;\n",
       "    }\n",
       "\n",
       "    .dataframe thead th {\n",
       "        text-align: right;\n",
       "    }\n",
       "</style>\n",
       "<table border=\"1\" class=\"dataframe\">\n",
       "  <thead>\n",
       "    <tr style=\"text-align: right;\">\n",
       "      <th></th>\n",
       "      <th>VendorID</th>\n",
       "      <th>tpep_pickup_datetime</th>\n",
       "      <th>tpep_dropoff_datetime</th>\n",
       "      <th>passenger_count</th>\n",
       "      <th>trip_distance</th>\n",
       "      <th>RatecodeID</th>\n",
       "      <th>PULocationID</th>\n",
       "      <th>DOLocationID</th>\n",
       "      <th>payment_type</th>\n",
       "      <th>fare_amount</th>\n",
       "      <th>extra</th>\n",
       "      <th>mta_tax</th>\n",
       "      <th>tip_amount</th>\n",
       "      <th>tolls_amount</th>\n",
       "      <th>improvement_surcharge</th>\n",
       "      <th>total_amount</th>\n",
       "      <th>dayofmonth</th>\n",
       "      <th>hora</th>\n",
       "      <th>PUBorough</th>\n",
       "      <th>DOLocation</th>\n",
       "      <th>temp</th>\n",
       "      <th>feelslike</th>\n",
       "      <th>precip</th>\n",
       "      <th>snow</th>\n",
       "      <th>snowdepth</th>\n",
       "      <th>conditions</th>\n",
       "      <th>trip_distance_out</th>\n",
       "      <th>fare_amount_out</th>\n",
       "      <th>tip_amount_out</th>\n",
       "      <th>total_amount_out</th>\n",
       "      <th>outlier</th>\n",
       "    </tr>\n",
       "  </thead>\n",
       "  <tbody>\n",
       "    <tr>\n",
       "      <th>0</th>\n",
       "      <td>2</td>\n",
       "      <td>2018-01-03</td>\n",
       "      <td>2018-01-03</td>\n",
       "      <td>1</td>\n",
       "      <td>4.75</td>\n",
       "      <td>1</td>\n",
       "      <td>88</td>\n",
       "      <td>230</td>\n",
       "      <td>2</td>\n",
       "      <td>21.0</td>\n",
       "      <td>0.0</td>\n",
       "      <td>0.5</td>\n",
       "      <td>0.0</td>\n",
       "      <td>0.0</td>\n",
       "      <td>0.3</td>\n",
       "      <td>22.0</td>\n",
       "      <td>3</td>\n",
       "      <td>2018-01-03</td>\n",
       "      <td>Manhattan</td>\n",
       "      <td>Manhattan</td>\n",
       "      <td>-7.3</td>\n",
       "      <td>-14.0</td>\n",
       "      <td>0.0</td>\n",
       "      <td>0.0</td>\n",
       "      <td>0.33</td>\n",
       "      <td>Clear</td>\n",
       "      <td>0</td>\n",
       "      <td>0</td>\n",
       "      <td>0</td>\n",
       "      <td>0</td>\n",
       "      <td>0</td>\n",
       "    </tr>\n",
       "  </tbody>\n",
       "</table>\n",
       "</div>"
      ],
      "text/plain": [
       "   VendorID tpep_pickup_datetime tpep_dropoff_datetime  passenger_count  \\\n",
       "0         2           2018-01-03            2018-01-03                1   \n",
       "\n",
       "   trip_distance  RatecodeID  PULocationID  DOLocationID  payment_type  \\\n",
       "0           4.75           1            88           230             2   \n",
       "\n",
       "   fare_amount  extra  mta_tax  tip_amount  tolls_amount  \\\n",
       "0         21.0    0.0      0.5         0.0           0.0   \n",
       "\n",
       "   improvement_surcharge  total_amount  dayofmonth       hora  PUBorough  \\\n",
       "0                    0.3          22.0           3 2018-01-03  Manhattan   \n",
       "\n",
       "  DOLocation  temp  feelslike  precip  snow  snowdepth conditions  \\\n",
       "0  Manhattan  -7.3      -14.0     0.0   0.0       0.33      Clear   \n",
       "\n",
       "   trip_distance_out  fare_amount_out  tip_amount_out  total_amount_out  \\\n",
       "0                  0                0               0                 0   \n",
       "\n",
       "   outlier  \n",
       "0        0  "
      ]
     },
     "execution_count": 17,
     "metadata": {},
     "output_type": "execute_result"
    }
   ],
   "source": [
    "df_Impar.head(1)"
   ]
  },
  {
   "cell_type": "markdown",
   "metadata": {},
   "source": [
    "vendor id- ratecode id esta- payment_type."
   ]
  },
  {
   "cell_type": "markdown",
   "metadata": {},
   "source": [
    "revisar si agregar mas columnas al tratamiento de outliers."
   ]
  }
 ],
 "metadata": {
  "kernelspec": {
   "display_name": "Python 3.10.2 64-bit",
   "language": "python",
   "name": "python3"
  },
  "language_info": {
   "codemirror_mode": {
    "name": "ipython",
    "version": 3
   },
   "file_extension": ".py",
   "mimetype": "text/x-python",
   "name": "python",
   "nbconvert_exporter": "python",
   "pygments_lexer": "ipython3",
   "version": "3.10.2"
  },
  "orig_nbformat": 4,
  "vscode": {
   "interpreter": {
    "hash": "6847c98a8f86b01c6a19c518cd2f366693b80566b266804d5ca763cbb223f52b"
   }
  }
 },
 "nbformat": 4,
 "nbformat_minor": 2
}
