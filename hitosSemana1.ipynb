{
 "cells": [
  {
   "cell_type": "markdown",
   "metadata": {},
   "source": [
    "![](hitos.png)"
   ]
  },
  {
   "cell_type": "markdown",
   "metadata": {},
   "source": [
    "1) entendimiento de la situación actual"
   ]
  },
  {
   "cell_type": "markdown",
   "metadata": {},
   "source": [
    "No tenemos informacion sobre la cantidad de taxis, tenemos duracion de horarios de conexion, numero de pasajeros, distancia de viaje, zonas de carga y de descarga, tipo de tarifa, tipo de pago, importe de tarifa, cargos extras, impuestoMTA (ver que significa y en que afecta), recargo de mejora(que es), propinas con tarjeta, peajes pagados, cantidad total cobrada a los pasajeros, recargo por congestion ( que significa ), tarifa de aeropuerto.\n",
    "\n",
    "contamos con 8760687 datos de viajes, la tasa aeroportuaria solo tiene 12 registros al igual que congestion_surcharge por los que se consideraron irrelevantes.\n"
   ]
  },
  {
   "cell_type": "markdown",
   "metadata": {},
   "source": [
    "2. Objetivos"
   ]
  },
  {
   "cell_type": "markdown",
   "metadata": {},
   "source": [
    "relacion taxi facturacion (cantidad de viajes x taxi)\n",
    "relacion de tiempo por km cargado.\n",
    "relacion distancia facturacion\n",
    "recaudacion fines de semana\n",
    "en que afecta el clima?? \n"
   ]
  },
  {
   "cell_type": "markdown",
   "metadata": {},
   "source": [
    "3. Alcance"
   ]
  },
  {
   "cell_type": "markdown",
   "metadata": {},
   "source": []
  },
  {
   "cell_type": "markdown",
   "metadata": {},
   "source": [
    "4.Fuera de Alcance"
   ]
  },
  {
   "cell_type": "markdown",
   "metadata": {},
   "source": [
    "distancia recorrida entre la descarga de pasajero y la carga de uno nuevo."
   ]
  },
  {
   "cell_type": "code",
   "execution_count": null,
   "metadata": {},
   "outputs": [],
   "source": []
  }
 ],
 "metadata": {
  "kernelspec": {
   "display_name": "Python 3.10.2 64-bit",
   "language": "python",
   "name": "python3"
  },
  "language_info": {
   "codemirror_mode": {
    "name": "ipython",
    "version": 3
   },
   "file_extension": ".py",
   "mimetype": "text/x-python",
   "name": "python",
   "nbconvert_exporter": "python",
   "pygments_lexer": "ipython3",
   "version": "3.10.2"
  },
  "orig_nbformat": 4,
  "vscode": {
   "interpreter": {
    "hash": "6847c98a8f86b01c6a19c518cd2f366693b80566b266804d5ca763cbb223f52b"
   }
  }
 },
 "nbformat": 4,
 "nbformat_minor": 2
}
