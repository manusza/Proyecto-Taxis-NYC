{
 "cells": [
  {
   "cell_type": "code",
   "execution_count": null,
   "metadata": {},
   "outputs": [],
   "source": [
    "pip install mysql-connector-python\n",
    "pip install pymysql"
   ]
  },
  {
   "cell_type": "code",
   "execution_count": 4,
   "metadata": {},
   "outputs": [],
   "source": [
    "import mysql.connector\n",
    "from mysql.connector import Error\n",
    "from sqlalchemy import create_engine\n",
    "\n",
    "\n"
   ]
  },
  {
   "cell_type": "markdown",
   "metadata": {},
   "source": [
    "#ANTES DE ESTE PASO CREAMOS EL ESQUEMA EN MYSQL"
   ]
  },
  {
   "cell_type": "code",
   "execution_count": 5,
   "metadata": {},
   "outputs": [
    {
     "name": "stdout",
     "output_type": "stream",
     "text": [
      "Conexion exitosa\n",
      "8.0.28\n"
     ]
    }
   ],
   "source": [
    "from multiprocessing import connection\n",
    "\n",
    "#Creacion de variables\n",
    "host_name,db_name, u_name, u_pass, port_num  = \"localhost\",\"schema_taxis\", \"root\", \"root\", \"3306\"\n",
    "\n",
    "try:\n",
    "    connection = mysql.connector.connect(\n",
    "    host= host_name,\n",
    "    user= u_name,\n",
    "    password= u_pass,\n",
    "    database= db_name\n",
    "    )\n",
    "\n",
    "    if connection.is_connected():\n",
    "        print('Conexion exitosa')\n",
    "        info_server = connection.get_server_info()\n",
    "        print(info_server)\n",
    "except Exception as ex:\n",
    "    print(ex)"
   ]
  },
  {
   "cell_type": "code",
   "execution_count": 6,
   "metadata": {},
   "outputs": [],
   "source": [
    "#Creacion del motor de base de datos\n",
    "engine = create_engine(\"mysql+mysqlconnector://\" + u_name + \":\" + u_pass + \"@\" \n",
    "                        + host_name + \":\" + port_num + \"/\" + db_name, echo=False)\n"
   ]
  },
  {
   "cell_type": "code",
   "execution_count": null,
   "metadata": {},
   "outputs": [],
   "source": [
    "#Importacion del dataframe a nuestra base de datos en SQL \n",
    "#CAMBIAR LOS NOMBRES DEL DF QUE QUEREMOS CARGAR Y EL NOMBRE QUE QUEREMOS QUE TENGA LA TABLA EN SQL\n",
    "\n",
    "venta.to_sql(name=\"venta\", con=engine, if_exists=\"append\", index=False)"
   ]
  },
  {
   "cell_type": "code",
   "execution_count": null,
   "metadata": {},
   "outputs": [],
   "source": [
    "\"\"\"#Importacion del dataframe a nuestra base de datos en SQL\n",
    "venta.to_sql(name=\"venta\", con=engine, if_exists=\"append\", index=False)\n",
    "cliente.to_sql(name=\"cliente\", con=engine, if_exists=\"append\", index=False)\n",
    "compra.to_sql(name=\"compra\", con=engine, if_exists=\"append\", index=False)\n",
    "gasto.to_sql(name=\"gasto\", con=engine, if_exists=\"append\", index=False)\n",
    "sucursal.to_sql(name=\"sucursal\", con=engine, if_exists=\"append\", index=False)\n",
    "proveedor.to_sql(name=\"proveedor\", con=engine, if_exists=\"append\", index=False)\n",
    "\n",
    "print(\"All done.\")\"\"\""
   ]
  }
 ],
 "metadata": {
  "kernelspec": {
   "display_name": "Python 3.10.2 64-bit",
   "language": "python",
   "name": "python3"
  },
  "language_info": {
   "codemirror_mode": {
    "name": "ipython",
    "version": 3
   },
   "file_extension": ".py",
   "mimetype": "text/x-python",
   "name": "python",
   "nbconvert_exporter": "python",
   "pygments_lexer": "ipython3",
   "version": "3.10.2"
  },
  "orig_nbformat": 4,
  "vscode": {
   "interpreter": {
    "hash": "fc9bf071d1edcda62f9f40c4f5d365670026981195518e39fb1bfe9748cea84c"
   }
  }
 },
 "nbformat": 4,
 "nbformat_minor": 2
}
