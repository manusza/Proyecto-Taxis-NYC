{
 "cells": [
  {
   "cell_type": "markdown",
   "metadata": {},
   "source": [
    "![](hitos.png)"
   ]
  },
  {
   "cell_type": "markdown",
   "metadata": {},
   "source": [
    "1) entendimiento de la situación actual"
   ]
  },
  {
   "cell_type": "markdown",
   "metadata": {},
   "source": [
    "Usaremos para el analisis del mercado en el cual la empresa quiere ¿incurrir?, registros de los \"yellow-cab\" provenientes de la comision de taxis y limusinas de la ciudad de nueva york para el mes de Enero del año 2018.\n",
    "\n",
    "Estos datos cuentan con:\n",
    "\n",
    "-Duracion de horarios de conexion\n",
    "\n",
    "-Numero de pasajeros en el taxi\n",
    "\n",
    "-Distancias de cada viaje \n",
    "\n",
    "-Zonas de carga y descarga\n",
    "\n",
    "-Importe, tipo de tarifa y forma de pago de la misma, asi como cargos extras.\n",
    "\n",
    "\n",
    "-Impuesto MTA (?) ((ver que significa y en que afecta), recargo de mejora(que es))\n",
    "\n",
    "-Propinas con tarjeta\n",
    "\n",
    "-Peajes pagados\n",
    "\n",
    "--Cantidad total cobrada a los pasajeros\n",
    "\n",
    "Decidimos descargar los siguientes campos por ser poco representativos en el conjunto de datos---> recargo por congestion, tarifa de aeropuerto.\n",
    "\n",
    "\n"
   ]
  },
  {
   "cell_type": "markdown",
   "metadata": {},
   "source": [
    "RIESGOS\n",
    "\n",
    "POSIBLES RIESGOS QUE PUEDAN SE PUEDAN MATERIALIZAR EN EL FUTURO\n",
    "GITHUB NO SOPORTA TANTOS DATOS, "
   ]
  },
  {
   "cell_type": "markdown",
   "metadata": {},
   "source": []
  },
  {
   "cell_type": "markdown",
   "metadata": {},
   "source": []
  },
  {
   "cell_type": "markdown",
   "metadata": {},
   "source": [
    "No tenemos informacion sobre la cantidad de taxis, tenemos duracion de horarios de conexion, numero de pasajeros, distancia de viaje, zonas de carga y de descarga, tipo de tarifa, tipo de pago, importe de tarifa, cargos extras, impuestoMTA (ver que significa y en que afecta), recargo de mejora(que es), propinas con tarjeta, peajes pagados, cantidad total cobrada a los pasajeros,(lo siguiente lo sacamos---> recargo por congestion ( que significa ), tarifa de aeropuerto.)\n",
    "\n",
    "contamos con 8760687 datos de viajes, la tasa aeroportuaria solo tiene 12 registros al igual que congestion_surcharge por los que se consideraron irrelevantes.\n"
   ]
  },
  {
   "cell_type": "markdown",
   "metadata": {},
   "source": [
    "2. Objetivos, Que vamos a hacer?"
   ]
  },
  {
   "cell_type": "markdown",
   "metadata": {},
   "source": [
    "1) relacion taxi facturacion (cantidad de viajes x taxi)  \n",
    "2) #Tenemos la distancia\n",
    "3) relacion de tiempo por km cargado.  \n",
    "4) Borough con mayor y menor cantidad de viajes\n",
    "5) recaudacion fines de semana  \n",
    "6) viajes por hora con lluvia/nieve\n",
    "7) viajes por hora sin lluvia\n",
    "8) ticket promedio con lluvia/sin lluvia\n",
    "\n",
    "\n",
    "\n",
    "\n",
    "\n"
   ]
  },
  {
   "cell_type": "markdown",
   "metadata": {},
   "source": [
    "3. Alcance, como vamos a llegar al objetivo"
   ]
  },
  {
   "cell_type": "markdown",
   "metadata": {},
   "source": [
    "Obtener los kpis necesarios para mostrar el rendimiento del negocio.\n",
    "integracion de la Api con el dataset.\n",
    "\n"
   ]
  },
  {
   "cell_type": "markdown",
   "metadata": {},
   "source": [
    "4.Fuera de Alcance"
   ]
  },
  {
   "cell_type": "markdown",
   "metadata": {},
   "source": [
    "distancia recorrida entre la descarga de pasajero y la carga de uno nuevo.  \n",
    "revisar la necesidad de relacionar los datos con el clima.  \n",
    "no se puede calcular el desgaste de los vehiculos por ende la rentabilidad no se puede calcular sin tomar datos externos teniendo en cuenta nuestro cronograma de entrega.  "
   ]
  },
  {
   "cell_type": "markdown",
   "metadata": {},
   "source": [
    ".5 Solucion propuesta"
   ]
  },
  {
   "cell_type": "markdown",
   "metadata": {},
   "source": [
    "*Luego de analizar los datos disponibles, se realizara un analisis exploratorio de los datos, se descartaran las columnas irrelevantes.\n",
    "*Se relacionaran los datos de los viajes con el clima, y se obtendran insights del impacto que tiene en la demanda.\n",
    "*Se diseñara una base de datos y creara un Data Ware house\n",
    "\n",
    "*************\n",
    "Stack Tecnológico:\n",
    "Python: pandas, numpy, matplotlib, seaborn, etc.\n",
    "MySQL\n",
    "\n",
    "\n"
   ]
  },
  {
   "cell_type": "markdown",
   "metadata": {},
   "source": [
    "6. Metodologia de Trabajo"
   ]
  },
  {
   "cell_type": "markdown",
   "metadata": {},
   "source": [
    "siguiendo la metodologia Scrum, se tendran Daily Scrum "
   ]
  },
  {
   "cell_type": "markdown",
   "metadata": {},
   "source": [
    "7. Diseño detallado - Entregables "
   ]
  },
  {
   "cell_type": "markdown",
   "metadata": {},
   "source": []
  },
  {
   "cell_type": "markdown",
   "metadata": {},
   "source": [
    ".8 Equipo de trabajo: roles y responsabilidades\n",
    "\n",
    "Jefe de equipo:  \n"
   ]
  },
  {
   "cell_type": "markdown",
   "metadata": {},
   "source": [
    "Matias a sql y powerbi\n"
   ]
  },
  {
   "cell_type": "markdown",
   "metadata": {},
   "source": [
    "9.Cronograma General:"
   ]
  },
  {
   "cell_type": "markdown",
   "metadata": {},
   "source": []
  },
  {
   "cell_type": "markdown",
   "metadata": {},
   "source": [
    "PREGUNTAS \n",
    "\n",
    "como hacer el git ignore del dataset"
   ]
  },
  {
   "cell_type": "markdown",
   "metadata": {},
   "source": []
  }
 ],
 "metadata": {
  "kernelspec": {
   "display_name": "Python 3.10.2 64-bit",
   "language": "python",
   "name": "python3"
  },
  "language_info": {
   "codemirror_mode": {
    "name": "ipython",
    "version": 3
   },
   "file_extension": ".py",
   "mimetype": "text/x-python",
   "name": "python",
   "nbconvert_exporter": "python",
   "pygments_lexer": "ipython3",
   "version": "3.10.2"
  },
  "orig_nbformat": 4,
  "vscode": {
   "interpreter": {
    "hash": "6847c98a8f86b01c6a19c518cd2f366693b80566b266804d5ca763cbb223f52b"
   }
  }
 },
 "nbformat": 4,
 "nbformat_minor": 2
}
