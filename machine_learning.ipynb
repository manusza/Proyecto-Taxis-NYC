{
 "cells": [
  {
   "cell_type": "code",
   "execution_count": null,
   "metadata": {},
   "outputs": [],
   "source": [
    "import numpy as np\n",
    "import pandas as pd\n",
    "from sklearn.linear_model import LinearRegression\n",
    "import seaborn as sns\n",
    "import matplotlib.pyplot as plt\n",
    "import numpy as np\n",
    "%matplotlib inline\n",
    "from sklearn import linear_model"
   ]
  },
  {
   "cell_type": "code",
   "execution_count": null,
   "metadata": {},
   "outputs": [],
   "source": [
    "#model para predecir precio promedio por cantidad de miles e Id del Borough\n",
    "\n",
    "df = pd.read_csv('delta.csv', sep= ';')\n",
    "\n",
    "df.head(10)\n",
    "#"
   ]
  },
  {
   "cell_type": "code",
   "execution_count": null,
   "metadata": {},
   "outputs": [],
   "source": [
    "#aplicamos un rango para una mejor visualizacion del scatter\n",
    "\n",
    "df_ml=df[['IdPUBorough', 'fare_amount', 'trip_distance']]\n",
    "df_ml= df_ml[df_ml.trip_distance<500]\n",
    "df_ml= df_ml[df_ml.fare_amount<800]"
   ]
  },
  {
   "cell_type": "code",
   "execution_count": null,
   "metadata": {},
   "outputs": [],
   "source": [
    "#hacemos un scatter de las 2 variables independientes \n",
    "\n",
    "plt.scatter(df_ml.IdPUBorough, df_ml.fare_amount,  color='blue')\n",
    "plt.xlabel(\"Id Borough\")\n",
    "plt.ylabel(\"Fare Amount\")\n",
    "plt.show()"
   ]
  },
  {
   "cell_type": "code",
   "execution_count": null,
   "metadata": {},
   "outputs": [],
   "source": [
    "plt.scatter(df_ml.trip_distance, df_ml.fare_amount,  color='blue')\n",
    "plt.xlabel(\"Trip Distance\")\n",
    "plt.ylabel(\"Fare Amount\")\n",
    "plt.show()"
   ]
  },
  {
   "cell_type": "code",
   "execution_count": null,
   "metadata": {},
   "outputs": [],
   "source": [
    "#creamos la mascara para enternar \n",
    "msk = np.random.rand(len(df_ml)) < 0.8\n",
    "train = df_ml[msk]\n",
    "test = df_ml[~msk]"
   ]
  },
  {
   "cell_type": "code",
   "execution_count": null,
   "metadata": {},
   "outputs": [],
   "source": [
    "#data a entrenar 80%\n",
    "\n",
    "plt.scatter(train.trip_distance, train.fare_amount,  color='blue')\n",
    "plt.xlabel(\"Engine size\")\n",
    "plt.ylabel(\"Emission\")\n",
    "plt.show()"
   ]
  },
  {
   "cell_type": "code",
   "execution_count": null,
   "metadata": {},
   "outputs": [],
   "source": [
    "#data a testear 20%\n",
    "\n",
    "plt.scatter(test.trip_distance, test.fare_amount,  color='blue')\n",
    "plt.xlabel(\"Engine size\")\n",
    "plt.ylabel(\"Emission\")\n",
    "plt.show()"
   ]
  },
  {
   "cell_type": "code",
   "execution_count": null,
   "metadata": {},
   "outputs": [],
   "source": [
    "#vemos los coeficientes \n",
    "regr = linear_model.LinearRegression()\n",
    "x = np.asanyarray(train[['IdPUBorough', 'trip_distance']])\n",
    "y = np.asanyarray(train[['fare_amount']])\n",
    "regr.fit (x, y)\n",
    "\n",
    "print ('Coefficients: ', regr.coef_)"
   ]
  },
  {
   "cell_type": "code",
   "execution_count": null,
   "metadata": {},
   "outputs": [],
   "source": [
    "#declaramos los test\n",
    "y_hat= regr.predict(test[['IdPUBorough', 'trip_distance']])\n",
    "x = np.asanyarray(test[['IdPUBorough', 'trip_distance']])\n",
    "y = np.asanyarray(test[['fare_amount']])\n",
    "print(\"Residual sum of squares: %.2f\"\n",
    "      % np.mean((y_hat - y) ** 2))\n",
    "\n",
    "# Explicamos la varianza\n",
    "print('Variance score: %.2f' % regr.score(x, y))"
   ]
  },
  {
   "cell_type": "code",
   "execution_count": null,
   "metadata": {},
   "outputs": [],
   "source": [
    "#hacemos el predict\n",
    "regr.predict([[2, 13]])"
   ]
  },
  {
   "cell_type": "code",
   "execution_count": null,
   "metadata": {},
   "outputs": [],
   "source": [
    "#comparamos con el dataframe el predict\n",
    "\n",
    "df_ml.head(20)"
   ]
  }
 ],
 "metadata": {
  "kernelspec": {
   "display_name": "Python 3.9.9 64-bit",
   "language": "python",
   "name": "python3"
  },
  "language_info": {
   "name": "python",
   "version": "3.9.9"
  },
  "orig_nbformat": 4,
  "vscode": {
   "interpreter": {
    "hash": "d2152fd7f0bbc62aa1baff8c990435d1e2c7175d001561303988032604c11a48"
   }
  }
 },
 "nbformat": 4,
 "nbformat_minor": 2
}
