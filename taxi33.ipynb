{
 "cells": [
  {
   "cell_type": "code",
   "execution_count": 13,
   "metadata": {},
   "outputs": [],
   "source": [
    "import numpy as np\n",
    "import pandas as pd\n",
    "pd.options.mode.chained_assignment = None\n",
    "pd.options.display.max_columns=None\n",
    "import matplotlib.pyplot as plt\n",
    "import seaborn as sns\n",
    "import datetime"
   ]
  },
  {
   "cell_type": "code",
   "execution_count": 3,
   "metadata": {},
   "outputs": [],
   "source": [
    "import pandas as pd\n",
    "import mysql.connector\n",
    "from mysql.connector import Error\n",
    "from sqlalchemy import create_engine"
   ]
  },
  {
   "cell_type": "code",
   "execution_count": 4,
   "metadata": {},
   "outputs": [],
   "source": [
    "#df total de los taxis\n",
    "df = pd.read_parquet(\"df_ImparSQL.parquet\", engine=\"pyarrow\")"
   ]
  },
  {
   "cell_type": "code",
   "execution_count": 16,
   "metadata": {},
   "outputs": [],
   "source": [
    "df_Zona = pd.read_csv(\"taxi+_zone_lookup.csv\", sep=\",\")"
   ]
  },
  {
   "cell_type": "code",
   "execution_count": 17,
   "metadata": {},
   "outputs": [],
   "source": [
    "df_Clima=pd.read_csv(\"clima.csv\", sep=',')"
   ]
  },
  {
   "cell_type": "code",
   "execution_count": 18,
   "metadata": {},
   "outputs": [],
   "source": [
    "from multiprocessing import connection"
   ]
  },
  {
   "cell_type": "code",
   "execution_count": 19,
   "metadata": {},
   "outputs": [],
   "source": [
    "host_name,db_name, u_name, u_pass, port_num  = \"localhost\",\"taxi_1\", \"root\", \"root\", \"3306\""
   ]
  },
  {
   "cell_type": "code",
   "execution_count": 16,
   "metadata": {},
   "outputs": [],
   "source": [
    "def get_missings(df,plot=True,rotation=45,figsize=(10,5), * kwargs):\n",
    "    labels,values,percent = list(),list(),list()\n",
    "    if df.isna().sum().sum()>0:\n",
    "        for column in df.columns:\n",
    "            if df[column].isna().sum():\n",
    "                labels.append(column)\n",
    "                values.append(df[column].isna().sum())\n",
    "                percent.append((df[column].isna().sum() / df.shape[0]) * 100)\n",
    "        #Make a dataframe \n",
    "        missings=pd.DataFrame({'Colúmnas':labels,'Valores faltantes':values,'PorcentajePerdido':percent}).sort_values(by='PorcentajePerdido',ascending=False)\n",
    "        \n",
    "\n",
    "        if plot:\n",
    "            plt.figure(figsize=figsize)\n",
    "            plot = sns.barplot(x=missings.Colúmnas,y=round(missings.PorcentajePerdido, 2), palette = \"Blues_r\")# .set_title('Porcentaje de valores perdidos',size=22)\n",
    "            for i in plot.patches:\n",
    "                plot.annotate(i.get_height(),\n",
    "                (i.get_x() + i.get_width() / 2, i.get_height()),\n",
    "                ha = 'center', va = 'baseline', fontsize = 12,\n",
    "                color = 'black', xytext = (0,1),\n",
    "                textcoords = 'offset pixels')\n",
    "            locs, labels = plt.xticks()\n",
    "            plt.setp(labels, rotation=rotation,size=16)\n",
    "            plt.xlabel('Colúmnas',size=18)\n",
    "            plt.ylabel('Porcentaje',size=18)\n",
    "            plot.set_title('Porcentaje de valores perdidos',size=18)\n",
    "\n",
    "        return missings\n",
    "    else:\n",
    "        return False"
   ]
  },
  {
   "cell_type": "code",
   "execution_count": null,
   "metadata": {},
   "outputs": [],
   "source": [
    "git"
   ]
  },
  {
   "cell_type": "code",
   "execution_count": 20,
   "metadata": {},
   "outputs": [
    {
     "name": "stdout",
     "output_type": "stream",
     "text": [
      "Conexion exitosa\n",
      "8.0.29\n"
     ]
    }
   ],
   "source": [
    "try:\n",
    "    connection = mysql.connector.connect(\n",
    "    host= host_name,\n",
    "    user= u_name,\n",
    "    password= u_pass,\n",
    "    database= db_name\n",
    "    )\n",
    "\n",
    "    if connection.is_connected():\n",
    "        print('Conexion exitosa')\n",
    "        info_server = connection.get_server_info()\n",
    "        print(info_server)\n",
    "except Exception as ex:\n",
    "    print(ex)"
   ]
  },
  {
   "cell_type": "code",
   "execution_count": 21,
   "metadata": {},
   "outputs": [],
   "source": [
    "#Creacion del motor de base de datos\n",
    "engine = create_engine(\"mysql+mysqlconnector://\" + u_name + \":\" + u_pass + \"@\" \n",
    "                        + host_name + \":\" + port_num + \"/\" + db_name, echo=False)\n"
   ]
  },
  {
   "cell_type": "code",
   "execution_count": 26,
   "metadata": {},
   "outputs": [],
   "source": [
    "\n",
    "\n",
    "#Importacion del dataframe a nuestra base de datos en SQL \n",
    "#CAMBIAR LOS NOMBRES DEL DF QUE QUEREMOS CARGAR Y EL NOMBRE QUE QUEREMOS QUE TENGA LA TABLA EN SQL\n",
    "\n",
    "df.to_sql(name=\"taxi\", con=engine, if_exists=\"append\", index=False)\n"
   ]
  },
  {
   "cell_type": "code",
   "execution_count": 1,
   "metadata": {},
   "outputs": [
    {
     "ename": "NameError",
     "evalue": "name 'df' is not defined",
     "output_type": "error",
     "traceback": [
      "\u001b[1;31m---------------------------------------------------------------------------\u001b[0m",
      "\u001b[1;31mNameError\u001b[0m                                 Traceback (most recent call last)",
      "\u001b[1;32mc:\\Users\\Ariel\\Desktop\\tp taxi 2\\Proyecto-Taxis-NYC\\taxi33.ipynb Celda 11\u001b[0m in \u001b[0;36m<cell line: 1>\u001b[1;34m()\u001b[0m\n\u001b[1;32m----> <a href='vscode-notebook-cell:/c%3A/Users/Ariel/Desktop/tp%20taxi%202/Proyecto-Taxis-NYC/taxi33.ipynb#ch0000010?line=0'>1</a>\u001b[0m df\u001b[39m.\u001b[39mhead()\n",
      "\u001b[1;31mNameError\u001b[0m: name 'df' is not defined"
     ]
    }
   ],
   "source": [
    "df.head()"
   ]
  }
 ],
 "metadata": {
  "kernelspec": {
   "display_name": "Python 3.10.5 64-bit (windows store)",
   "language": "python",
   "name": "python3"
  },
  "language_info": {
   "codemirror_mode": {
    "name": "ipython",
    "version": 3
   },
   "file_extension": ".py",
   "mimetype": "text/x-python",
   "name": "python",
   "nbconvert_exporter": "python",
   "pygments_lexer": "ipython3",
   "version": "3.10.5"
  },
  "orig_nbformat": 4,
  "vscode": {
   "interpreter": {
    "hash": "39a4a283ba33cbf7914bca7cedace0796cf5d1a50a73c1cda853b36322d337e0"
   }
  }
 },
 "nbformat": 4,
 "nbformat_minor": 2
}
