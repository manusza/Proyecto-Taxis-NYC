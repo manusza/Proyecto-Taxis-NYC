{
 "cells": [
  {
   "cell_type": "code",
   "execution_count": 10,
   "metadata": {},
   "outputs": [],
   "source": [
    "import pandas as pd\n",
    "import mysql.connector\n",
    "from mysql.connector import Error\n",
    "from sqlalchemy import create_engine\n",
    "import mysql.connector as msql"
   ]
  },
  {
   "cell_type": "code",
   "execution_count": 8,
   "metadata": {},
   "outputs": [],
   "source": [
    "df = pd.read_parquet(\"C:/Users/maty_/Desktop/Henry DS/LABS/GRUPAL TAXIS/df_ImparSQL.parquet\", engine=\"pyarrow\")"
   ]
  },
  {
   "cell_type": "code",
   "execution_count": 15,
   "metadata": {},
   "outputs": [
    {
     "name": "stdout",
     "output_type": "stream",
     "text": [
      "<class 'pandas.core.frame.DataFrame'>\n",
      "Int64Index: 2908638 entries, 0 to 2908991\n",
      "Data columns (total 26 columns):\n",
      " #   Column                 Dtype         \n",
      "---  ------                 -----         \n",
      " 0   tpep_pickup_datetime   datetime64[ns]\n",
      " 1   tpep_dropoff_datetime  datetime64[ns]\n",
      " 2   passenger_count        int64         \n",
      " 3   trip_distance          float64       \n",
      " 4   RatecodeID             int64         \n",
      " 5   PULocationID           int64         \n",
      " 6   DOLocationID           int64         \n",
      " 7   payment_type           int64         \n",
      " 8   fare_amount            float64       \n",
      " 9   extra                  float64       \n",
      " 10  mta_tax                float64       \n",
      " 11  tip_amount             float64       \n",
      " 12  tolls_amount           float64       \n",
      " 13  improvement_surcharge  float64       \n",
      " 14  total_amount           float64       \n",
      " 15  dayofmonth             int64         \n",
      " 16  PUBorough              object        \n",
      " 17  DOLocation             object        \n",
      " 18  hora                   datetime64[ns]\n",
      " 19  datetime               datetime64[ns]\n",
      " 20  temp                   float64       \n",
      " 21  feelslike              float64       \n",
      " 22  precip                 float64       \n",
      " 23  snow                   float64       \n",
      " 24  snowdepth              float64       \n",
      " 25  conditions             object        \n",
      "dtypes: datetime64[ns](4), float64(13), int64(6), object(3)\n",
      "memory usage: 599.2+ MB\n"
     ]
    }
   ],
   "source": [
    "df.info()"
   ]
  },
  {
   "cell_type": "code",
   "execution_count": 11,
   "metadata": {},
   "outputs": [
    {
     "name": "stdout",
     "output_type": "stream",
     "text": [
      "Database is created\n"
     ]
    }
   ],
   "source": [
    "# Connect to the MySQL using Python and create a Database\n",
    "\n",
    "try:\n",
    "    conn = msql.connect(host='localhost', user='root',  \n",
    "                        password='root')#give ur username, password\n",
    "    if conn.is_connected():\n",
    "        cursor = conn.cursor()\n",
    "        cursor.execute(\"CREATE DATABASE IF NOT EXISTS Taxis;\")\n",
    "        print(\"Database is created\")\n",
    "except Error as e:\n",
    "    print(\"Error while connecting to MySQL\", e)"
   ]
  },
  {
   "cell_type": "code",
   "execution_count": 13,
   "metadata": {},
   "outputs": [
    {
     "ename": "AttributeError",
     "evalue": "module 'mysql' has no attribute 'connect'",
     "output_type": "error",
     "traceback": [
      "\u001b[1;31m---------------------------------------------------------------------------\u001b[0m",
      "\u001b[1;31mAttributeError\u001b[0m                            Traceback (most recent call last)",
      "\u001b[1;32mc:\\Users\\maty_\\Desktop\\Henry DS\\LABS\\GRUPAL TAXIS\\Proyecto-Taxis-NYC\\Pruebabdd.ipynb Celda 4\u001b[0m in \u001b[0;36m<module>\u001b[1;34m\u001b[0m\n\u001b[0;32m      <a href='vscode-notebook-cell:/c%3A/Users/maty_/Desktop/Henry%20DS/LABS/GRUPAL%20TAXIS/Proyecto-Taxis-NYC/Pruebabdd.ipynb#ch0000002?line=1'>2</a>\u001b[0m \u001b[39mfrom\u001b[39;00m \u001b[39mmysql\u001b[39;00m\u001b[39m.\u001b[39;00m\u001b[39mconnector\u001b[39;00m \u001b[39mimport\u001b[39;00m Error\n\u001b[0;32m      <a href='vscode-notebook-cell:/c%3A/Users/maty_/Desktop/Henry%20DS/LABS/GRUPAL%20TAXIS/Proyecto-Taxis-NYC/Pruebabdd.ipynb#ch0000002?line=2'>3</a>\u001b[0m \u001b[39mtry\u001b[39;00m:\n\u001b[1;32m----> <a href='vscode-notebook-cell:/c%3A/Users/maty_/Desktop/Henry%20DS/LABS/GRUPAL%20TAXIS/Proyecto-Taxis-NYC/Pruebabdd.ipynb#ch0000002?line=3'>4</a>\u001b[0m     conn \u001b[39m=\u001b[39m mysql\u001b[39m.\u001b[39;49mconnect(host\u001b[39m=\u001b[39m\u001b[39m'\u001b[39m\u001b[39mlocalhost\u001b[39m\u001b[39m'\u001b[39m, database\u001b[39m=\u001b[39m\u001b[39m'\u001b[39m\u001b[39mTaxis\u001b[39m\u001b[39m'\u001b[39m, user\u001b[39m=\u001b[39m\u001b[39m'\u001b[39m\u001b[39mroot\u001b[39m\u001b[39m'\u001b[39m, password\u001b[39m=\u001b[39m\u001b[39m'\u001b[39m\u001b[39mroot\u001b[39m\u001b[39m'\u001b[39m)\n\u001b[0;32m      <a href='vscode-notebook-cell:/c%3A/Users/maty_/Desktop/Henry%20DS/LABS/GRUPAL%20TAXIS/Proyecto-Taxis-NYC/Pruebabdd.ipynb#ch0000002?line=4'>5</a>\u001b[0m     \u001b[39mif\u001b[39;00m conn\u001b[39m.\u001b[39mis_connected():\n\u001b[0;32m      <a href='vscode-notebook-cell:/c%3A/Users/maty_/Desktop/Henry%20DS/LABS/GRUPAL%20TAXIS/Proyecto-Taxis-NYC/Pruebabdd.ipynb#ch0000002?line=5'>6</a>\u001b[0m         cursor \u001b[39m=\u001b[39m conn\u001b[39m.\u001b[39mcursor()\n",
      "\u001b[1;31mAttributeError\u001b[0m: module 'mysql' has no attribute 'connect'"
     ]
    }
   ],
   "source": [
    "import mysql.connector as msql\n",
    "from mysql.connector import Error\n",
    "try:\n",
    "    conn = mysql.connect(host='localhost', database='Taxis', user='root', password='root')\n",
    "    if conn.is_connected():\n",
    "        cursor = conn.cursor()\n",
    "        cursor.execute(\"select database();\")\n",
    "        record = cursor.fetchone()\n",
    "        print(\"You're connected to database: \", record)\n",
    "        #cursor.execute('DROP TABLE IF EXISTS employee_data;')\n",
    "        #print('Creating table....')\n",
    "# in the below line please pass the create table statement which you want #to create\n",
    "        cursor.execute(\"CREATE TABLE IF NOT EXIST Fare(first_name varchar(255),last_name varchar(255),company_name varchar(255),address varchar(255),city varchar(255),county varchar(255),state varchar(255),zip int,phone1 varchar(255),phone2 varchar(255),email varchar(255),web varchar(255))\")\n",
    "        print(\"Table is created....\")\n",
    "        #loop through the data frame\n",
    "        for i,row in df.iterrows():\n",
    "            #here %S means string values \n",
    "            sql = \"INSERT INTO employee.employee_data VALUES (%s,%s,%s,%s,%s,%s,%s,%s,%s,%s,%s,%s)\"\n",
    "            cursor.execute(sql, tuple(row))\n",
    "            print(\"Record inserted\")\n",
    "            # the connection is not auto committed by default, so we must commit to save our changes\n",
    "            conn.commit()\n",
    "except Error as e:\n",
    "            print(\"Error while connecting to MySQL\", e)"
   ]
  },
  {
   "cell_type": "code",
   "execution_count": null,
   "metadata": {},
   "outputs": [],
   "source": [
    "# in the below line please pass the create table statement which you want #to create\n",
    "        from numpy import integer\n",
    "\n",
    "\n",
    "cursor.execute(\"CREATE TABLE IF NOT EXIST Fare(tpep_pickup_datetime datetime,tpep_dropoff_datetime datetime,passenger_count integer,trip_distance float,RatecodeID integer,PULocationID integer,DOLocationID integer,payment_type integer,fare_amount float,extra float,mta_tax float,tip_amount float,tolls_amount float,improvement_surcharge float,total_amount float,dayofmonth integer,PUBorough varchar(225),DOLocation varchar(225)hora datetime,datetime datetime,temp float,feelslike float,precip float,snow float,snowdepth float,conditions varchar(225))\")\n",
    "        print(\"Table is created....\")\n",
    "        #loop through the data frame\n",
    "        for i,row in empdata.iterrows():\n",
    "            #here %S means string values \n",
    "            sql = \"INSERT INTO employee.employee_data VALUES (%s,%s,%s,%s,%s,%s,%s,%s,%s,%s,%s,%s)\"\n",
    "            cursor.execute(sql, tuple(row))\n",
    "            print(\"Record inserted\")\n",
    "            # the connection is not auto committed by default, so we must commit to save our changes\n",
    "            conn.commit()\n",
    "except Error as e:\n",
    "            print(\"Error while connecting to MySQL\", e)"
   ]
  },
  {
   "cell_type": "code",
   "execution_count": null,
   "metadata": {},
   "outputs": [],
   "source": []
  },
  {
   "cell_type": "code",
   "execution_count": null,
   "metadata": {},
   "outputs": [],
   "source": [
    "CREATE TABLE proveedores ( \n",
    "razonSocial VARCHAR(50) NOT NULL,\n",
    "observaciones VARCHAR(50) NOT NULL, \n",
    "codProvincia TINYINT UNSIGNED NOT NULL, \n",
    "fechaAlta DATE NOT NULL ) \n",
    "PARTITION BY LIST(codProvincia) ( \n",
    "PARTITION extremadura VALUES IN (1, 3), \n",
    "PARTITION aragon VALUES IN (2, 5, 8), \n",
    "PARTITION valencia VALUES IN (4, 9), \n",
    "PARTITION andalucia VALUES IN (6, 7, 10) );"
   ]
  },
  {
   "cell_type": "code",
   "execution_count": null,
   "metadata": {},
   "outputs": [],
   "source": []
  }
 ],
 "metadata": {
  "kernelspec": {
   "display_name": "Python 3.10.2 64-bit",
   "language": "python",
   "name": "python3"
  },
  "language_info": {
   "codemirror_mode": {
    "name": "ipython",
    "version": 3
   },
   "file_extension": ".py",
   "mimetype": "text/x-python",
   "name": "python",
   "nbconvert_exporter": "python",
   "pygments_lexer": "ipython3",
   "version": "3.10.2"
  },
  "orig_nbformat": 4,
  "vscode": {
   "interpreter": {
    "hash": "fc9bf071d1edcda62f9f40c4f5d365670026981195518e39fb1bfe9748cea84c"
   }
  }
 },
 "nbformat": 4,
 "nbformat_minor": 2
}
