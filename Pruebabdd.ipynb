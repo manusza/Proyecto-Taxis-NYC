{
 "cells": [
  {
   "cell_type": "code",
   "execution_count": 74,
   "metadata": {},
   "outputs": [],
   "source": [
    "import pandas as pd\n",
    "import mysql.connector\n",
    "from mysql.connector import Error\n",
    "from sqlalchemy import create_engine\n",
    "import mysql.connector as msql\n",
    "import matplotlib.pyplot as plt"
   ]
  },
  {
   "cell_type": "code",
   "execution_count": 75,
   "metadata": {},
   "outputs": [],
   "source": [
    "pd.options.mode.chained_assignment = None\n",
    "pd.options.display.max_columns=None"
   ]
  },
  {
   "cell_type": "code",
   "execution_count": 76,
   "metadata": {},
   "outputs": [],
   "source": [
    "df = pd.read_parquet(\"C:/Users/Ariel/Desktop/tp taxi 2/Proyecto-Taxis-NYC/df_ImparSQL.parquet\", engine=\"pyarrow\")"
   ]
  },
  {
   "cell_type": "code",
   "execution_count": 77,
   "metadata": {},
   "outputs": [],
   "source": [
    "df = df.drop (columns='datetime')"
   ]
  },
  {
   "cell_type": "code",
   "execution_count": null,
   "metadata": {},
   "outputs": [],
   "source": []
  },
  {
   "cell_type": "code",
   "execution_count": 78,
   "metadata": {},
   "outputs": [
    {
     "data": {
      "text/html": [
       "<div>\n",
       "<style scoped>\n",
       "    .dataframe tbody tr th:only-of-type {\n",
       "        vertical-align: middle;\n",
       "    }\n",
       "\n",
       "    .dataframe tbody tr th {\n",
       "        vertical-align: top;\n",
       "    }\n",
       "\n",
       "    .dataframe thead th {\n",
       "        text-align: right;\n",
       "    }\n",
       "</style>\n",
       "<table border=\"1\" class=\"dataframe\">\n",
       "  <thead>\n",
       "    <tr style=\"text-align: right;\">\n",
       "      <th></th>\n",
       "      <th>tpep_pickup_datetime</th>\n",
       "      <th>tpep_dropoff_datetime</th>\n",
       "      <th>passenger_count</th>\n",
       "      <th>trip_distance</th>\n",
       "      <th>RatecodeID</th>\n",
       "      <th>PULocationID</th>\n",
       "      <th>DOLocationID</th>\n",
       "      <th>payment_type</th>\n",
       "      <th>fare_amount</th>\n",
       "      <th>extra</th>\n",
       "      <th>mta_tax</th>\n",
       "      <th>tip_amount</th>\n",
       "      <th>tolls_amount</th>\n",
       "      <th>improvement_surcharge</th>\n",
       "      <th>total_amount</th>\n",
       "      <th>dayofmonth</th>\n",
       "      <th>PUBorough</th>\n",
       "      <th>DOLocation</th>\n",
       "      <th>hora</th>\n",
       "      <th>temp</th>\n",
       "      <th>feelslike</th>\n",
       "      <th>precip</th>\n",
       "      <th>snow</th>\n",
       "      <th>snowdepth</th>\n",
       "      <th>conditions</th>\n",
       "    </tr>\n",
       "  </thead>\n",
       "  <tbody>\n",
       "    <tr>\n",
       "      <th>0</th>\n",
       "      <td>2018-01-03</td>\n",
       "      <td>2018-01-03</td>\n",
       "      <td>2</td>\n",
       "      <td>1.53</td>\n",
       "      <td>1</td>\n",
       "      <td>230</td>\n",
       "      <td>162</td>\n",
       "      <td>2</td>\n",
       "      <td>10.5</td>\n",
       "      <td>1.0</td>\n",
       "      <td>0.5</td>\n",
       "      <td>0.0</td>\n",
       "      <td>0.0</td>\n",
       "      <td>0.3</td>\n",
       "      <td>12.3</td>\n",
       "      <td>3</td>\n",
       "      <td>Manhattan</td>\n",
       "      <td>Manhattan</td>\n",
       "      <td>2018-01-03</td>\n",
       "      <td>-7.3</td>\n",
       "      <td>-13.5</td>\n",
       "      <td>0.0</td>\n",
       "      <td>0.0</td>\n",
       "      <td>0.33</td>\n",
       "      <td>Clear</td>\n",
       "    </tr>\n",
       "    <tr>\n",
       "      <th>1</th>\n",
       "      <td>2018-01-03</td>\n",
       "      <td>2018-01-03</td>\n",
       "      <td>1</td>\n",
       "      <td>4.75</td>\n",
       "      <td>1</td>\n",
       "      <td>88</td>\n",
       "      <td>230</td>\n",
       "      <td>2</td>\n",
       "      <td>21.0</td>\n",
       "      <td>0.0</td>\n",
       "      <td>0.5</td>\n",
       "      <td>0.0</td>\n",
       "      <td>0.0</td>\n",
       "      <td>0.3</td>\n",
       "      <td>21.8</td>\n",
       "      <td>3</td>\n",
       "      <td>Manhattan</td>\n",
       "      <td>Manhattan</td>\n",
       "      <td>2018-01-03</td>\n",
       "      <td>-7.3</td>\n",
       "      <td>-13.5</td>\n",
       "      <td>0.0</td>\n",
       "      <td>0.0</td>\n",
       "      <td>0.33</td>\n",
       "      <td>Clear</td>\n",
       "    </tr>\n",
       "  </tbody>\n",
       "</table>\n",
       "</div>"
      ],
      "text/plain": [
       "  tpep_pickup_datetime tpep_dropoff_datetime  passenger_count  trip_distance  \\\n",
       "0           2018-01-03            2018-01-03                2           1.53   \n",
       "1           2018-01-03            2018-01-03                1           4.75   \n",
       "\n",
       "   RatecodeID  PULocationID  DOLocationID  payment_type  fare_amount  extra  \\\n",
       "0           1           230           162             2         10.5    1.0   \n",
       "1           1            88           230             2         21.0    0.0   \n",
       "\n",
       "   mta_tax  tip_amount  tolls_amount  improvement_surcharge  total_amount  \\\n",
       "0      0.5         0.0           0.0                    0.3          12.3   \n",
       "1      0.5         0.0           0.0                    0.3          21.8   \n",
       "\n",
       "   dayofmonth  PUBorough DOLocation       hora  temp  feelslike  precip  snow  \\\n",
       "0           3  Manhattan  Manhattan 2018-01-03  -7.3      -13.5     0.0   0.0   \n",
       "1           3  Manhattan  Manhattan 2018-01-03  -7.3      -13.5     0.0   0.0   \n",
       "\n",
       "   snowdepth conditions  \n",
       "0       0.33      Clear  \n",
       "1       0.33      Clear  "
      ]
     },
     "execution_count": 78,
     "metadata": {},
     "output_type": "execute_result"
    }
   ],
   "source": [
    "df.head(2)"
   ]
  },
  {
   "cell_type": "markdown",
   "metadata": {},
   "source": [
    "pandas._libs.tslibs.timestamps.Timestamp\n",
    "df_Impar.tpep_pickup_datetime[1])"
   ]
  },
  {
   "cell_type": "code",
   "execution_count": 79,
   "metadata": {},
   "outputs": [
    {
     "data": {
      "text/plain": [
       "pandas._libs.tslibs.timestamps.Timestamp"
      ]
     },
     "execution_count": 79,
     "metadata": {},
     "output_type": "execute_result"
    }
   ],
   "source": [
    "type(df.tpep_pickup_datetime[1])"
   ]
  },
  {
   "cell_type": "code",
   "execution_count": 80,
   "metadata": {},
   "outputs": [],
   "source": [
    "from datetime import datetime\n",
    "\n",
    "#dt_object = datetime.fromtimestamp(df.tpep_pickup_datetime)"
   ]
  },
  {
   "cell_type": "markdown",
   "metadata": {},
   "source": [
    "pandas.to_datetime()\n",
    "df[\"date\"] = pd.to_datetime(df.timestamp, unit=\"ms\")"
   ]
  },
  {
   "cell_type": "code",
   "execution_count": 81,
   "metadata": {},
   "outputs": [],
   "source": [
    "#df[\"tpep_pickup_datetime\"] = pd.to_datetime(df.tpep_pickup_datetime.timestamp, unit=\"s\")"
   ]
  },
  {
   "cell_type": "code",
   "execution_count": 82,
   "metadata": {},
   "outputs": [],
   "source": [
    "df['tpep_pickup_datetime'] = pd.to_datetime(df['tpep_pickup_datetime'], format=\"%Y/%m/%d, %H:%M:%S\")"
   ]
  },
  {
   "cell_type": "code",
   "execution_count": 83,
   "metadata": {},
   "outputs": [],
   "source": [
    "df['tpep_dropoff_datetime'] = pd.to_datetime(df['tpep_dropoff_datetime'], format=\"%Y/%m/%d, %H:%M:%S\")"
   ]
  },
  {
   "cell_type": "code",
   "execution_count": 84,
   "metadata": {},
   "outputs": [],
   "source": [
    "df['hora'] = pd.to_datetime(df['hora'], format=\"%Y/%m/%d, %H:%M:%S\")      "
   ]
  },
  {
   "cell_type": "code",
   "execution_count": 85,
   "metadata": {},
   "outputs": [
    {
     "name": "stdout",
     "output_type": "stream",
     "text": [
      "Database is created\n"
     ]
    }
   ],
   "source": [
    "# Connect to the MySQL using Python and create a Database\n",
    "\n",
    "try:\n",
    "    conn = msql.connect(host='127.0.0.1', user='root',  \n",
    "                        password='root')#give ur username, password\n",
    "    if conn.is_connected():\n",
    "        cursor = conn.cursor()\n",
    "        cursor.execute(\"CREATE DATABASE IF NOT EXISTS Taxis;\")\n",
    "        print(\"Database is created\")\n",
    "except Error as e:\n",
    "    print(\"Error while connecting to MySQL\", e)"
   ]
  },
  {
   "cell_type": "code",
   "execution_count": null,
   "metadata": {},
   "outputs": [],
   "source": [
    "df.info()"
   ]
  },
  {
   "cell_type": "code",
   "execution_count": null,
   "metadata": {},
   "outputs": [],
   "source": [
    "df.PUBorough.unique()"
   ]
  },
  {
   "cell_type": "code",
   "execution_count": 86,
   "metadata": {},
   "outputs": [],
   "source": [
    "df['PUBorough'] = df['PUBorough'].astype('str')"
   ]
  },
  {
   "cell_type": "code",
   "execution_count": null,
   "metadata": {},
   "outputs": [],
   "source": [
    "#df['column'] = df['column'].astype('str')"
   ]
  },
  {
   "cell_type": "code",
   "execution_count": 88,
   "metadata": {},
   "outputs": [],
   "source": [
    "df['PUBorough'] = df['PUBorough'].str.split(',')"
   ]
  },
  {
   "cell_type": "code",
   "execution_count": 90,
   "metadata": {},
   "outputs": [
    {
     "name": "stdout",
     "output_type": "stream",
     "text": [
      "You're connected to database:  ('taxis',)\n",
      "Table is created....\n",
      "Error while connecting to MySQL Failed processing format-parameters; Python 'timestamp' cannot be converted to a MySQL type\n"
     ]
    }
   ],
   "source": [
    "import mysql.connector as msql\n",
    "from mysql.connector import Error\n",
    "try:\n",
    "    conn = msql.connect(host='localhost', database='Taxis', user='root', password='root')\n",
    "    if conn.is_connected():\n",
    "        cursor = conn.cursor()\n",
    "        cursor.execute(\"select database();\")\n",
    "        record = cursor.fetchone()\n",
    "        print(\"You're connected to database: \", record)\n",
    "        cursor.execute(\"CREATE TABLE Fare(tpep_pickup_datetime date,tpep_dropoff_datetime date,passenger_count integer,trip_distance decimal(10,2),RatecodeID integer,PULocationID integer,DOLocationID integer,payment_type integer,fare_amount decimal(10,2),extra decimal(10,2),mta_tax decimal(10,2),tip_amount decimal(10,2),tolls_amount decimal(10,2),improvement_surcharge decimal(10,2),total_amount decimal(10,2),dayofmonth integer,PUBorough varchar(225),DOLocation varchar(225),hora datetime,temp decimal(10,2),feelslike decimal(10,2),precip decimal(10,2),snow decimal(10,2),snowdepth decimal(10,2),conditions varchar(225))\")\n",
    "        print(\"Table is created....\")\n",
    "        #loop through the data frame\n",
    "        for i,row in df.iterrows():\n",
    "            #here %S means string values \n",
    "            sql = \"INSERT INTO employee.employee_data VALUES (%s,%s,%s,%s,%s,%s,%s,%s,%s,%s,%s,%s,%s,%s,%s,%s,%s,%s,%s,%s,%s,%s,%s,%s,%s)\"\n",
    "            cursor.execute(sql, tuple(row))\n",
    "            print(\"Record inserted\")\n",
    "            # the connection is not auto committed by default, so we must commit to save our changes\n",
    "            conn.commit()\n",
    "except Error as e:\n",
    "            print(\"Error while connecting to MySQL\", e)"
   ]
  },
  {
   "cell_type": "code",
   "execution_count": 91,
   "metadata": {},
   "outputs": [
    {
     "name": "stdout",
     "output_type": "stream",
     "text": [
      "<class 'pandas.core.frame.DataFrame'>\n",
      "Int64Index: 2908638 entries, 0 to 2908991\n",
      "Data columns (total 25 columns):\n",
      " #   Column                 Dtype         \n",
      "---  ------                 -----         \n",
      " 0   tpep_pickup_datetime   datetime64[ns]\n",
      " 1   tpep_dropoff_datetime  datetime64[ns]\n",
      " 2   passenger_count        int64         \n",
      " 3   trip_distance          float64       \n",
      " 4   RatecodeID             int64         \n",
      " 5   PULocationID           int64         \n",
      " 6   DOLocationID           int64         \n",
      " 7   payment_type           int64         \n",
      " 8   fare_amount            float64       \n",
      " 9   extra                  float64       \n",
      " 10  mta_tax                float64       \n",
      " 11  tip_amount             float64       \n",
      " 12  tolls_amount           float64       \n",
      " 13  improvement_surcharge  float64       \n",
      " 14  total_amount           float64       \n",
      " 15  dayofmonth             int64         \n",
      " 16  PUBorough              object        \n",
      " 17  DOLocation             object        \n",
      " 18  hora                   datetime64[ns]\n",
      " 19  temp                   float64       \n",
      " 20  feelslike              float64       \n",
      " 21  precip                 float64       \n",
      " 22  snow                   float64       \n",
      " 23  snowdepth              float64       \n",
      " 24  conditions             object        \n",
      "dtypes: datetime64[ns](3), float64(13), int64(6), object(3)\n",
      "memory usage: 577.0+ MB\n"
     ]
    }
   ],
   "source": [
    "df.info()"
   ]
  },
  {
   "cell_type": "markdown",
   "metadata": {},
   "source": []
  },
  {
   "cell_type": "code",
   "execution_count": null,
   "metadata": {},
   "outputs": [],
   "source": []
  },
  {
   "cell_type": "code",
   "execution_count": null,
   "metadata": {},
   "outputs": [],
   "source": [
    "CREATE TABLE proveedores ( \n",
    "razonSocial VARCHAR(50) NOT NULL,\n",
    "observaciones VARCHAR(50) NOT NULL, \n",
    "codProvincia TINYINT UNSIGNED NOT NULL, \n",
    "fechaAlta DATE NOT NULL ) \n",
    "PARTITION BY LIST(codProvincia) ( \n",
    "PARTITION extremadura VALUES IN (1, 3), \n",
    "PARTITION aragon VALUES IN (2, 5, 8), \n",
    "PARTITION valencia VALUES IN (4, 9), \n",
    "PARTITION andalucia VALUES IN (6, 7, 10) );"
   ]
  },
  {
   "cell_type": "code",
   "execution_count": null,
   "metadata": {},
   "outputs": [],
   "source": []
  }
 ],
 "metadata": {
  "kernelspec": {
   "display_name": "Python 3.10.5 64-bit (windows store)",
   "language": "python",
   "name": "python3"
  },
  "language_info": {
   "codemirror_mode": {
    "name": "ipython",
    "version": 3
   },
   "file_extension": ".py",
   "mimetype": "text/x-python",
   "name": "python",
   "nbconvert_exporter": "python",
   "pygments_lexer": "ipython3",
   "version": "3.10.5"
  },
  "orig_nbformat": 4,
  "vscode": {
   "interpreter": {
    "hash": "39a4a283ba33cbf7914bca7cedace0796cf5d1a50a73c1cda853b36322d337e0"
   }
  }
 },
 "nbformat": 4,
 "nbformat_minor": 2
}
